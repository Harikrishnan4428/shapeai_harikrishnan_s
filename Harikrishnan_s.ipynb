{
  "nbformat": 4,
  "nbformat_minor": 0,
  "metadata": {
    "colab": {
      "name": "Harikrishnan_s",
      "provenance": [],
      "collapsed_sections": [],
      "authorship_tag": "ABX9TyM3AoVVN27bsIMadMNDtqZN",
      "include_colab_link": true
    },
    "kernelspec": {
      "name": "python3",
      "display_name": "Python 3"
    },
    "language_info": {
      "name": "python"
    }
  },
  "cells": [
    {
      "cell_type": "markdown",
      "metadata": {
        "id": "view-in-github",
        "colab_type": "text"
      },
      "source": [
        "<a href=\"https://colab.research.google.com/github/Harikrishnan4428/shapeai_harikrishnan_s/blob/main/Harikrishnan_s.ipynb\" target=\"_parent\"><img src=\"https://colab.research.google.com/assets/colab-badge.svg\" alt=\"Open In Colab\"/></a>"
      ]
    },
    {
      "cell_type": "code",
      "metadata": {
        "colab": {
          "base_uri": "https://localhost:8080/"
        },
        "id": "IOo_8WnjektS",
        "outputId": "78f4ce5a-ca6b-4073-b86b-ed230859a479"
      },
      "source": [
        " \n",
        "from keras.datasets import mnist\n",
        " \n",
        "data=mnist.load_data()\n",
        " \n",
        "(x_train,y_train),(x_test,y_test)=data\n",
        " \n",
        "x_train[0].shape\n",
        " \n",
        "x_train=x_train.reshape((x_train.shape[0],28*28)).astype('float32')\n",
        " \n",
        "x_test=x_test.reshape((x_test.shape[0],28*28)).astype('float32')\n",
        " \n",
        "x_train=x_train/255\n",
        " \n",
        "x_test=x_test/255\n",
        " \n",
        "from keras.utils import np_utils\n",
        " \n",
        "print(y_test.shape)\n",
        " \n",
        "y_train=np_utils.to_categorical(y_train)\n",
        " \n",
        "y_test=np_utils.to_categorical(y_test)\n",
        " \n",
        "num_classes=y_test.shape[1]\n",
        " \n",
        "print(y_test.shape)\n",
        " \n",
        "from keras.models import Sequential\n",
        " \n",
        "from keras.layers import Dense\n",
        " \n",
        "model=Sequential()\n",
        " \n",
        "model.add(Dense(32,input_dim=28*28,activation='relu'))\n",
        " \n",
        "model.add(Dense(64,activation='relu'))\n",
        " \n",
        "model.add(Dense(10,activation='softmax'))\n",
        " \n",
        "model.compile(loss='categorical_crossentropy',optimizer='adam',metrics=['accuracy'])\n",
        " \n",
        "model.summary()\n",
        " \n",
        "model.fit(x_train,y_train,epochs=10,batch_size=100)\n",
        " \n",
        "scores=model.evaluate(x_test,y_test)\n",
        " \n",
        "print(scores)"
      ],
      "execution_count": null,
      "outputs": [
        {
          "output_type": "stream",
          "text": [
            "Downloading data from https://storage.googleapis.com/tensorflow/tf-keras-datasets/mnist.npz\n",
            "11493376/11490434 [==============================] - 0s 0us/step\n",
            "(10000,)\n",
            "(10000, 10)\n",
            "Model: \"sequential\"\n",
            "_________________________________________________________________\n",
            "Layer (type)                 Output Shape              Param #   \n",
            "=================================================================\n",
            "dense (Dense)                (None, 32)                25120     \n",
            "_________________________________________________________________\n",
            "dense_1 (Dense)              (None, 64)                2112      \n",
            "_________________________________________________________________\n",
            "dense_2 (Dense)              (None, 10)                650       \n",
            "=================================================================\n",
            "Total params: 27,882\n",
            "Trainable params: 27,882\n",
            "Non-trainable params: 0\n",
            "_________________________________________________________________\n",
            "Epoch 1/10\n",
            "600/600 [==============================] - 2s 2ms/step - loss: 0.7997 - accuracy: 0.7665\n",
            "Epoch 2/10\n",
            "600/600 [==============================] - 1s 2ms/step - loss: 0.2111 - accuracy: 0.9394\n",
            "Epoch 3/10\n",
            "600/600 [==============================] - 1s 2ms/step - loss: 0.1591 - accuracy: 0.9524\n",
            "Epoch 4/10\n",
            "600/600 [==============================] - 1s 2ms/step - loss: 0.1300 - accuracy: 0.9614\n",
            "Epoch 5/10\n",
            "600/600 [==============================] - 1s 2ms/step - loss: 0.1110 - accuracy: 0.9662\n",
            "Epoch 6/10\n",
            "600/600 [==============================] - 1s 2ms/step - loss: 0.0972 - accuracy: 0.9716\n",
            "Epoch 7/10\n",
            "600/600 [==============================] - 1s 2ms/step - loss: 0.0894 - accuracy: 0.9741\n",
            "Epoch 8/10\n",
            "600/600 [==============================] - 1s 2ms/step - loss: 0.0770 - accuracy: 0.9774\n",
            "Epoch 9/10\n",
            "600/600 [==============================] - 1s 2ms/step - loss: 0.0709 - accuracy: 0.9793\n",
            "Epoch 10/10\n",
            "600/600 [==============================] - 1s 2ms/step - loss: 0.0657 - accuracy: 0.9794\n",
            "313/313 [==============================] - 0s 940us/step - loss: 0.1097 - accuracy: 0.9672\n",
            "[0.10968901216983795, 0.967199981212616]\n"
          ],
          "name": "stdout"
        }
      ]
    }
  ]
}